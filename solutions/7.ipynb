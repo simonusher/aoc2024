{
 "cells": [
  {
   "cell_type": "code",
   "execution_count": null,
   "metadata": {},
   "outputs": [],
   "source": [
    "from aoc2024 import load_example, load_input"
   ]
  },
  {
   "cell_type": "code",
   "execution_count": null,
   "metadata": {},
   "outputs": [],
   "source": [
    "equation_lines = load_input(7).splitlines()\n",
    "equation_lines"
   ]
  },
  {
   "cell_type": "markdown",
   "metadata": {},
   "source": [
    "## Part 1"
   ]
  },
  {
   "cell_type": "code",
   "execution_count": null,
   "metadata": {},
   "outputs": [],
   "source": [
    "def parse_equation(equation: str) -> tuple[int, list[int]]:\n",
    "    test_value, numbers = equation.split(\": \")\n",
    "    test_value = int(test_value)\n",
    "    numbers = [int(x) for x in numbers.split()]\n",
    "    return test_value, numbers"
   ]
  },
  {
   "cell_type": "code",
   "execution_count": null,
   "metadata": {},
   "outputs": [],
   "source": [
    "equations = [parse_equation(eq) for eq in equation_lines]\n",
    "equations"
   ]
  },
  {
   "cell_type": "code",
   "execution_count": null,
   "metadata": {},
   "outputs": [],
   "source": [
    "from itertools import product\n",
    "from operator import add, mul\n",
    "from functools import reduce\n",
    "from typing import Any\n",
    "\n",
    "def check_equation(equation: tuple[int, list[int]], possible_operators=None) -> bool:\n",
    "    if possible_operators is None:\n",
    "        possible_operators = [add, mul]\n",
    "\n",
    "    test_value, numbers = equation\n",
    "\n",
    "    operator_positions = len(numbers) - 1\n",
    "    possible_variations = list(product(possible_operators, repeat=operator_positions))\n",
    "\n",
    "\n",
    "    for operators in possible_variations:\n",
    "        val = numbers[0]\n",
    "\n",
    "        for number, op in zip(numbers[1:], operators):\n",
    "            val = op(val, number)\n",
    "\n",
    "            if val > test_value:\n",
    "                break\n",
    "\n",
    "        # def apply_op(acc: int, num_op: tuple[int, Any]) -> int:\n",
    "        #     return num_op[1](acc, num_op[0])\n",
    "\n",
    "        # val = reduce(apply_op, zip(numbers[1:], operators), numbers[0])\n",
    "        if val == test_value:\n",
    "            return True\n",
    "    \n",
    "    return False"
   ]
  },
  {
   "cell_type": "code",
   "execution_count": null,
   "metadata": {},
   "outputs": [],
   "source": [
    "working_equations = list(filter(check_equation, equations))\n",
    "working_equations"
   ]
  },
  {
   "cell_type": "code",
   "execution_count": null,
   "metadata": {},
   "outputs": [],
   "source": [
    "test_vals_sum = sum(x[0] for x in working_equations)\n",
    "test_vals_sum"
   ]
  },
  {
   "cell_type": "code",
   "execution_count": null,
   "metadata": {},
   "outputs": [],
   "source": [
    "def concat_op(first: int, second: int) -> int:\n",
    "    return int(str(first) + str(second))"
   ]
  },
  {
   "cell_type": "markdown",
   "metadata": {},
   "source": [
    "## Part 2"
   ]
  },
  {
   "cell_type": "code",
   "execution_count": null,
   "metadata": {},
   "outputs": [],
   "source": [
    "ops = [add, mul, concat_op]\n",
    "ops"
   ]
  },
  {
   "cell_type": "code",
   "execution_count": null,
   "metadata": {},
   "outputs": [],
   "source": [
    "working_equations = list(filter(lambda eq: check_equation(eq, ops), equations))\n",
    "working_equations"
   ]
  },
  {
   "cell_type": "code",
   "execution_count": null,
   "metadata": {},
   "outputs": [],
   "source": [
    "test_vals_sum = sum(x[0] for x in working_equations)\n",
    "test_vals_sum"
   ]
  },
  {
   "cell_type": "code",
   "execution_count": null,
   "metadata": {},
   "outputs": [],
   "source": []
  }
 ],
 "metadata": {
  "kernelspec": {
   "display_name": ".venv",
   "language": "python",
   "name": "python3"
  },
  "language_info": {
   "codemirror_mode": {
    "name": "ipython",
    "version": 3
   },
   "file_extension": ".py",
   "mimetype": "text/x-python",
   "name": "python",
   "nbconvert_exporter": "python",
   "pygments_lexer": "ipython3",
   "version": "3.12.4"
  }
 },
 "nbformat": 4,
 "nbformat_minor": 2
}
