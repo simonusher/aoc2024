{
 "cells": [
  {
   "cell_type": "code",
   "execution_count": null,
   "metadata": {},
   "outputs": [],
   "source": [
    "from aoc2024 import load_example, load_input"
   ]
  },
  {
   "cell_type": "code",
   "execution_count": null,
   "metadata": {},
   "outputs": [],
   "source": [
    "data = load_input(15)\n",
    "data"
   ]
  },
  {
   "cell_type": "code",
   "execution_count": null,
   "metadata": {},
   "outputs": [],
   "source": [
    "map_str, moves_str = data.split(\"\\n\\n\", maxsplit=1)\n",
    "moves_str = moves_str.replace(\"\\n\", \"\")\n",
    "map_str, moves_str"
   ]
  },
  {
   "cell_type": "code",
   "execution_count": null,
   "metadata": {},
   "outputs": [],
   "source": [
    "from enum import Enum\n",
    "class Direction(Enum):\n",
    "    UP = (-1, 0)\n",
    "    DOWN = (1, 0)\n",
    "    LEFT = (0, -1)\n",
    "    RIGHT = (0, 1)\n",
    "\n",
    "\n",
    "    @staticmethod\n",
    "    def from_symbol(symbol: str):\n",
    "        return {\n",
    "            \"^\": Direction.UP,\n",
    "            \"v\": Direction.DOWN,\n",
    "            \"<\": Direction.LEFT,\n",
    "            \">\": Direction.RIGHT,\n",
    "        }[symbol]\n",
    "    \n",
    "    def __str__(self):\n",
    "        return {\n",
    "            \"UP\": \"^\",\n",
    "            \"DOWN\": \"v\",\n",
    "            \"LEFT\": \"<\",\n",
    "            \"RIGHT\": \">\"\n",
    "        }[self.name]"
   ]
  },
  {
   "cell_type": "code",
   "execution_count": null,
   "metadata": {},
   "outputs": [],
   "source": [
    "moves = [Direction.from_symbol(c) for c in moves_str]\n",
    "moves"
   ]
  },
  {
   "cell_type": "code",
   "execution_count": null,
   "metadata": {},
   "outputs": [],
   "source": [
    "map_str.splitlines()"
   ]
  },
  {
   "cell_type": "code",
   "execution_count": null,
   "metadata": {},
   "outputs": [],
   "source": [
    "from enum import Enum\n",
    "class TileObject(Enum):\n",
    "    EMPTY = \".\"\n",
    "    WALL = \"#\"\n",
    "    BOX = \"O\"\n",
    "    ROBOT = \"@\"\n",
    "    BOX_LEFT = \"[\"\n",
    "    BOX_RIGHT = \"]\"\n",
    "\n",
    "    def __str__(self):\n",
    "        return self.value"
   ]
  },
  {
   "cell_type": "code",
   "execution_count": null,
   "metadata": {},
   "outputs": [],
   "source": [
    "def parse_map(map_str: str):\n",
    "    map_rows = map_str.strip().splitlines()\n",
    "    tiles = [\n",
    "        [TileObject(c) for c in row]\n",
    "        for row in map_rows\n",
    "    ]\n",
    "    return tiles"
   ]
  },
  {
   "cell_type": "code",
   "execution_count": null,
   "metadata": {},
   "outputs": [],
   "source": [
    "tiles = parse_map(map_str)\n",
    "tiles"
   ]
  },
  {
   "cell_type": "code",
   "execution_count": null,
   "metadata": {},
   "outputs": [],
   "source": [
    "def print_map(tiles: list[list[TileObject]]):\n",
    "    res = \"\\n\".join([\"\".join([str(x) for x in row]) for row in tiles])\n",
    "    print(res)"
   ]
  },
  {
   "cell_type": "code",
   "execution_count": null,
   "metadata": {},
   "outputs": [],
   "source": [
    "def find_robot(tiles: list[list[TileObject]]) -> tuple[int, int]:\n",
    "    for y, row in enumerate(tiles):\n",
    "        for x, tile_object in enumerate(row):\n",
    "            if tile_object == TileObject.ROBOT:\n",
    "                return (y, x)\n",
    "    return None"
   ]
  },
  {
   "cell_type": "code",
   "execution_count": null,
   "metadata": {},
   "outputs": [],
   "source": [
    "def move(position: tuple[int, int], direction: Direction):\n",
    "    y, x = position\n",
    "    \n",
    "    direction_y, direction_x = direction.value\n",
    "    return y + direction_y, x + direction_x"
   ]
  },
  {
   "cell_type": "code",
   "execution_count": null,
   "metadata": {},
   "outputs": [],
   "source": [
    "def move_object(tiles: list[list[TileObject]], position_from: tuple[int, int], direction: Direction) -> bool:\n",
    "    y_from, x_from = position_from\n",
    "    y_to, x_to = move(position_from, direction)\n",
    "\n",
    "\n",
    "    object_to = tiles[y_to][x_to]\n",
    "    object_from = tiles[y_from][x_from]\n",
    "\n",
    "    if object_to == TileObject.WALL:\n",
    "        return False\n",
    "    \n",
    "    elif object_to == TileObject.EMPTY:\n",
    "        tiles[y_to][x_to] = object_from\n",
    "        tiles[y_from][x_from] = TileObject.EMPTY\n",
    "        return True\n",
    "    \n",
    "    elif object_to == TileObject.BOX:\n",
    "        can_move_next_tile = move_object(tiles, (y_to, x_to), direction)\n",
    "\n",
    "        if can_move_next_tile:\n",
    "            tiles[y_to][x_to] = object_from\n",
    "            tiles[y_from][x_from] = TileObject.EMPTY\n",
    "            return True\n",
    "        else:\n",
    "            return False\n",
    "    \n",
    "    else:\n",
    "        raise ValueError(\"Shouldn't move robot\")\n",
    "\n",
    "\n",
    "def process_move(tiles: list[list[TileObject]], position_from: tuple[int, int], direction: Direction):\n",
    "    was_moved = move_object(tiles, position_from, direction)\n",
    "    if was_moved:\n",
    "        return move(position_from, direction)\n",
    "    else:\n",
    "        return position_from\n"
   ]
  },
  {
   "cell_type": "code",
   "execution_count": null,
   "metadata": {},
   "outputs": [],
   "source": [
    "robot_position = find_robot(tiles)\n",
    "\n",
    "for direction in moves:\n",
    "    robot_position = process_move(tiles, robot_position, direction)"
   ]
  },
  {
   "cell_type": "code",
   "execution_count": null,
   "metadata": {},
   "outputs": [],
   "source": [
    "print_map(tiles)"
   ]
  },
  {
   "cell_type": "code",
   "execution_count": null,
   "metadata": {},
   "outputs": [],
   "source": [
    "def gps(y: int, x: int) -> int:\n",
    "    return y * 100 + x"
   ]
  },
  {
   "cell_type": "code",
   "execution_count": null,
   "metadata": {},
   "outputs": [],
   "source": [
    "def sum_gps(tiles: list[list[TileObject]]) -> int:\n",
    "    res = 0\n",
    "    for y, row in enumerate(tiles):\n",
    "        for x, tile_object in enumerate(row):\n",
    "            if tile_object == TileObject.BOX:\n",
    "                res += gps(y, x)\n",
    "    return res"
   ]
  },
  {
   "cell_type": "code",
   "execution_count": null,
   "metadata": {},
   "outputs": [],
   "source": [
    "sum_gps(tiles)"
   ]
  },
  {
   "cell_type": "markdown",
   "metadata": {},
   "source": [
    "## Part 2"
   ]
  },
  {
   "cell_type": "code",
   "execution_count": null,
   "metadata": {},
   "outputs": [],
   "source": [
    "def can_move_object(tiles: list[list[TileObject]], position_from: tuple[int, int], direction: Direction, check_other: bool=True) -> bool:\n",
    "    y_from, x_from = position_from\n",
    "    y_to, x_to = move(position_from, direction)\n",
    "\n",
    "    object_to = tiles[y_to][x_to]\n",
    "    object_from = tiles[y_from][x_from]\n",
    "\n",
    "    if object_from == TileObject.BOX_RIGHT and direction == Direction.LEFT:\n",
    "        pos = move(position_from, Direction.LEFT)\n",
    "        return can_move_object(tiles, pos, direction, check_other=False)\n",
    "    \n",
    "    if object_from == TileObject.BOX_LEFT and direction == Direction.RIGHT:\n",
    "        pos = move(position_from, Direction.RIGHT)\n",
    "        return can_move_object(tiles, pos, direction, check_other=False)\n",
    "\n",
    "    if check_other and (object_from == TileObject.BOX_LEFT or object_from == TileObject.BOX_RIGHT):\n",
    "        if object_from == TileObject.BOX_LEFT:\n",
    "            other_pos = move(position_from, Direction.RIGHT)\n",
    "        else:\n",
    "            other_pos = move(position_from, Direction.LEFT)\n",
    "        \n",
    "        return can_move_object(tiles, position_from, direction, check_other=False) and can_move_object(tiles, other_pos, direction, check_other=False)\n",
    "\n",
    "    if object_to == TileObject.WALL:\n",
    "        return False\n",
    "    \n",
    "    elif object_to == TileObject.EMPTY:\n",
    "        return True\n",
    "    \n",
    "    elif object_to == TileObject.BOX or object_to == TileObject.BOX_LEFT or object_to == TileObject.BOX_RIGHT:\n",
    "        can_move_next_tile = can_move_object(tiles, (y_to, x_to), direction)\n",
    "\n",
    "        if can_move_next_tile:\n",
    "            return True\n",
    "        else:\n",
    "            return False\n",
    "    \n",
    "    else:\n",
    "        raise ValueError(\"Shouldn't move robot\")"
   ]
  },
  {
   "cell_type": "code",
   "execution_count": null,
   "metadata": {},
   "outputs": [],
   "source": [
    "def move_object_2(tiles: list[list[TileObject]], position_from: tuple[int, int], direction: Direction, check_other=True):\n",
    "    y_from, x_from = position_from\n",
    "    y_to, x_to = move(position_from, direction)\n",
    "\n",
    "    object_to = tiles[y_to][x_to]\n",
    "    object_from = tiles[y_from][x_from]\n",
    "\n",
    "\n",
    "    if object_from == TileObject.BOX_LEFT and direction == Direction.RIGHT:\n",
    "        other_pos = move(position_from, Direction.RIGHT)\n",
    "        move_object_2(tiles, other_pos, direction, False)\n",
    "        \n",
    "        tiles[y_to][x_to] = object_from\n",
    "        tiles[y_from][x_from] = TileObject.EMPTY\n",
    "        object_to = tiles[y_to][x_to]\n",
    "\n",
    "    elif object_from == TileObject.BOX_RIGHT and direction == Direction.LEFT:\n",
    "        other_pos = move(position_from, Direction.LEFT)\n",
    "        move_object_2(tiles, other_pos, direction, False)\n",
    "        \n",
    "        tiles[y_to][x_to] = object_from\n",
    "        tiles[y_from][x_from] = TileObject.EMPTY\n",
    "        object_to = tiles[y_to][x_to]\n",
    "    \n",
    "    elif check_other and (object_from == TileObject.BOX_RIGHT or object_from == TileObject.BOX_LEFT):\n",
    "        if object_from == TileObject.BOX_RIGHT:\n",
    "            other_pos = move(position_from, Direction.LEFT)\n",
    "        else:\n",
    "            other_pos = move(position_from, Direction.RIGHT)\n",
    "\n",
    "        move_object_2(tiles, other_pos, direction, check_other=False)\n",
    "        move_object_2(tiles, position_from, direction, check_other=False)\n",
    "    \n",
    "    elif object_to == TileObject.EMPTY:\n",
    "        tiles[y_to][x_to] = object_from\n",
    "        tiles[y_from][x_from] = TileObject.EMPTY\n",
    "    \n",
    "    elif object_to == TileObject.BOX_LEFT or object_to == TileObject.BOX_RIGHT:\n",
    "        move_object_2(tiles, (y_to, x_to), direction)\n",
    "        \n",
    "        tiles[y_to][x_to] = object_from\n",
    "        tiles[y_from][x_from] = TileObject.EMPTY\n"
   ]
  },
  {
   "cell_type": "code",
   "execution_count": null,
   "metadata": {},
   "outputs": [],
   "source": [
    "def resize_map(tiles: list[list[TileObject]]) -> list[list[TileObject]]:\n",
    "    res = []\n",
    "\n",
    "    for row in tiles:\n",
    "        new_row = []\n",
    "        for obj in row:\n",
    "            print(obj.name)\n",
    "            if obj.name == \"BOX\":\n",
    "                new_row.append(TileObject.BOX_LEFT)\n",
    "                new_row.append(TileObject.BOX_RIGHT)\n",
    "            elif obj.name == \"ROBOT\":\n",
    "                new_row.append(TileObject.ROBOT)\n",
    "                new_row.append(TileObject.EMPTY)\n",
    "            else:\n",
    "                new_row.append(obj)\n",
    "                new_row.append(obj)\n",
    "        res.append(new_row)\n",
    "    return res"
   ]
  },
  {
   "cell_type": "code",
   "execution_count": null,
   "metadata": {},
   "outputs": [],
   "source": [
    "resized_map = resize_map(tiles)"
   ]
  },
  {
   "cell_type": "code",
   "execution_count": null,
   "metadata": {},
   "outputs": [],
   "source": [
    "print_map(resized_map)"
   ]
  },
  {
   "cell_type": "code",
   "execution_count": null,
   "metadata": {},
   "outputs": [],
   "source": [
    "robot_position = find_robot(resized_map)\n",
    "robot_position"
   ]
  },
  {
   "cell_type": "code",
   "execution_count": null,
   "metadata": {},
   "outputs": [],
   "source": [
    "direction = Direction.DOWN"
   ]
  },
  {
   "cell_type": "code",
   "execution_count": null,
   "metadata": {},
   "outputs": [],
   "source": [
    "\n",
    "for direction in moves:\n",
    "    print(direction)\n",
    "    can_move = can_move_object(resized_map, robot_position, direction)\n",
    "    if can_move:\n",
    "        move_object_2(resized_map, robot_position, direction)\n",
    "        robot_position = move(robot_position, direction)\n",
    "    # print()\n",
    "    # print()\n",
    "    # print_map(resized_map)\n",
    "print_map(resized_map)"
   ]
  },
  {
   "cell_type": "code",
   "execution_count": null,
   "metadata": {},
   "outputs": [],
   "source": [
    "it = iter(moves)"
   ]
  },
  {
   "cell_type": "code",
   "execution_count": null,
   "metadata": {},
   "outputs": [],
   "source": [
    "[str(m) for m in moves]\n"
   ]
  },
  {
   "cell_type": "code",
   "execution_count": null,
   "metadata": {},
   "outputs": [],
   "source": [
    "direction = next(it)\n",
    "print(direction)\n",
    "can_move = can_move_object(resized_map, robot_position, direction)\n",
    "print(can_move)\n",
    "\n",
    "if can_move:\n",
    "    move_object_2(resized_map, robot_position, direction)\n",
    "    robot_position = move(robot_position, direction)\n",
    "print()\n",
    "print()\n",
    "print_map(resized_map)"
   ]
  },
  {
   "cell_type": "code",
   "execution_count": null,
   "metadata": {},
   "outputs": [],
   "source": [
    "def sum_gps2(tiles: list[list[TileObject]]) -> int:\n",
    "    res = 0\n",
    "    for y, row in enumerate(tiles):\n",
    "        for x, tile_object in enumerate(row):\n",
    "            if tile_object == TileObject.BOX_LEFT:\n",
    "                res += gps(y, x)\n",
    "    return res"
   ]
  },
  {
   "cell_type": "code",
   "execution_count": null,
   "metadata": {},
   "outputs": [],
   "source": [
    "sum_gps2(resized_map)"
   ]
  },
  {
   "cell_type": "code",
   "execution_count": null,
   "metadata": {},
   "outputs": [],
   "source": []
  }
 ],
 "metadata": {
  "kernelspec": {
   "display_name": ".venv",
   "language": "python",
   "name": "python3"
  },
  "language_info": {
   "codemirror_mode": {
    "name": "ipython",
    "version": 3
   },
   "file_extension": ".py",
   "mimetype": "text/x-python",
   "name": "python",
   "nbconvert_exporter": "python",
   "pygments_lexer": "ipython3",
   "version": "3.12.4"
  }
 },
 "nbformat": 4,
 "nbformat_minor": 2
}
