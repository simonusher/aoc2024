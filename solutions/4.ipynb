{
 "cells": [
  {
   "cell_type": "code",
   "execution_count": null,
   "metadata": {},
   "outputs": [],
   "source": [
    "from aoc2024 import load_input, load_example"
   ]
  },
  {
   "cell_type": "code",
   "execution_count": null,
   "metadata": {},
   "outputs": [],
   "source": [
    "rows = load_input(4).splitlines()"
   ]
  },
  {
   "cell_type": "markdown",
   "metadata": {},
   "source": [
    "## Part 1"
   ]
  },
  {
   "cell_type": "code",
   "execution_count": null,
   "metadata": {},
   "outputs": [],
   "source": [
    "def flip(rows: list[str]) -> list[str]:\n",
    "    return [row[::-1] for row in rows]\n",
    "\n",
    "\n",
    "def transpose(rows: list[str]) -> list[str]:\n",
    "    return [\n",
    "        \"\".join([\n",
    "            row[i_col]\n",
    "            for row in rows\n",
    "        ])\n",
    "        for i_col in range(len(rows[0]))\n",
    "    ]\n",
    "\n",
    "def diagonals(rows: list[str]) -> list[str]:\n",
    "    result = []\n",
    "\n",
    "    width = len(rows[0])\n",
    "    height = len(rows)\n",
    "\n",
    "    start_coords = [(0, x) for x in range(width)] + [(y, 0) for y in range(1, height)]\n",
    "\n",
    "    for y_start, x_start in start_coords:\n",
    "        y, x = y_start, x_start\n",
    "\n",
    "        diagonal = []\n",
    "        while y < height and x < width:\n",
    "            diagonal.append(rows[y][x])\n",
    "            y += 1\n",
    "            x += 1\n",
    "        result.append(\"\".join(diagonal))\n",
    "    \n",
    "    return result"
   ]
  },
  {
   "cell_type": "code",
   "execution_count": null,
   "metadata": {},
   "outputs": [],
   "source": [
    "import re\n",
    "\n",
    "def count_xmas(row: str) -> int:\n",
    "    return len(re.findall(\"XMAS\", row))\n",
    "\n",
    "def count_xmas_all_rows(rows: list[str]) -> int:\n",
    "    return sum(count_xmas(row) for row in rows)"
   ]
  },
  {
   "cell_type": "code",
   "execution_count": null,
   "metadata": {},
   "outputs": [],
   "source": [
    "to_check = [\n",
    "    rows,\n",
    "    flip(rows),\n",
    "    transpose(rows),\n",
    "    flip(transpose(rows)),\n",
    "    diagonals(rows),\n",
    "    flip(diagonals(rows)),\n",
    "    diagonals(flip(rows)),\n",
    "    flip(diagonals(flip(rows)))\n",
    "]\n",
    "\n",
    "sum(count_xmas_all_rows(c) for c in to_check)"
   ]
  },
  {
   "cell_type": "markdown",
   "metadata": {},
   "source": [
    "## Part 2"
   ]
  },
  {
   "cell_type": "code",
   "execution_count": null,
   "metadata": {},
   "outputs": [],
   "source": [
    "def is_x_mas(rows: list[str], row: int, col: int) -> bool:\n",
    "    center = rows[row][col]\n",
    "    if center == \"A\":\n",
    "        first_left = rows[row-1][col-1]\n",
    "        first_right = rows[row+1][col+1]\n",
    "\n",
    "        first_diagonal = (first_left, first_right)\n",
    "\n",
    "        if first_diagonal == (\"M\", \"S\") or first_diagonal == (\"S\", \"M\"):\n",
    "            \n",
    "            second_left = rows[row-1][col+1]\n",
    "            second_right = rows[row+1][col-1]\n",
    "\n",
    "            second_diagonal = (second_left, second_right)\n",
    "\n",
    "            return second_diagonal == (\"M\", \"S\") or second_diagonal == (\"S\", \"M\")\n",
    "\n",
    "    return False\n",
    "\n",
    "def count_x_mas(rows: list[str]):\n",
    "    width = len(rows[0])\n",
    "    height = len(rows)\n",
    "\n",
    "    return sum(\n",
    "        is_x_mas(rows, row, col)\n",
    "        for row in range(1, height-1)\n",
    "        for col in range(1, width-1)\n",
    "    )\n"
   ]
  },
  {
   "cell_type": "code",
   "execution_count": null,
   "metadata": {},
   "outputs": [],
   "source": [
    "count_x_mas(rows)"
   ]
  },
  {
   "cell_type": "markdown",
   "metadata": {},
   "source": [
    "## Part 2 - bonus numpy"
   ]
  },
  {
   "cell_type": "code",
   "execution_count": null,
   "metadata": {},
   "outputs": [],
   "source": [
    "import numpy as np"
   ]
  },
  {
   "cell_type": "code",
   "execution_count": null,
   "metadata": {},
   "outputs": [],
   "source": [
    "input_arr = np.array([list(row) for row in rows])\n",
    "\n",
    "one = np.array([\n",
    "    [\"M\", \"\", \"\"],\n",
    "    [\"\", \"A\", \"\"],\n",
    "    [\"\", \"\", \"S\"]\n",
    "])\n",
    "\n",
    "two = np.array([\n",
    "    [\"\", \"\", \"M\"],\n",
    "    [\"\", \"\", \"\"],\n",
    "    [\"S\", \"\", \"\"]\n",
    "])\n",
    "\n",
    "possibilities = np.array([\n",
    "    one + two,\n",
    "    one + np.flip(two),\n",
    "    np.flip(one) + two,\n",
    "    np.flip(one) + np.flip(two),\n",
    "])\n",
    "\n",
    "EXPECTED_OVERLAPPING = (possibilities[0] != \"\").sum()"
   ]
  },
  {
   "cell_type": "code",
   "execution_count": null,
   "metadata": {},
   "outputs": [],
   "source": [
    "windows = np.lib.stride_tricks.sliding_window_view(input_arr, (3,3)).reshape((-1, 3, 3))\n",
    "windows_expanded = windows[:, np.newaxis, :, :]\n",
    "possibilities_expanded = possibilities[np.newaxis, :, :, :]\n",
    "\n",
    "((windows_expanded == possibilities_expanded).sum((2,3)) == EXPECTED_OVERLAPPING).sum().item()"
   ]
  }
 ],
 "metadata": {
  "kernelspec": {
   "display_name": ".venv",
   "language": "python",
   "name": "python3"
  },
  "language_info": {
   "codemirror_mode": {
    "name": "ipython",
    "version": 3
   },
   "file_extension": ".py",
   "mimetype": "text/x-python",
   "name": "python",
   "nbconvert_exporter": "python",
   "pygments_lexer": "ipython3",
   "version": "3.12.4"
  }
 },
 "nbformat": 4,
 "nbformat_minor": 2
}
