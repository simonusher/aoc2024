{
 "cells": [
  {
   "cell_type": "code",
   "execution_count": null,
   "metadata": {},
   "outputs": [],
   "source": [
    "from aoc2024 import load_example, load_input"
   ]
  },
  {
   "cell_type": "code",
   "execution_count": null,
   "metadata": {},
   "outputs": [],
   "source": [
    "topo_map = [[int(c) for c in row] for row in load_input(10).splitlines()]\n",
    "topo_map"
   ]
  },
  {
   "cell_type": "code",
   "execution_count": null,
   "metadata": {},
   "outputs": [],
   "source": [
    "def find_trailheads(topo_map: list[list[int]]) -> list[tuple[int, int]]:\n",
    "    trailheads = []\n",
    "    for y, row in enumerate(topo_map):\n",
    "        for x, height in enumerate(row):\n",
    "            if height == 0:\n",
    "                trailheads.append((y,x))\n",
    "    return trailheads"
   ]
  },
  {
   "cell_type": "code",
   "execution_count": null,
   "metadata": {},
   "outputs": [],
   "source": [
    "DIRECTIONS = [\n",
    "    (0, -1), # LEFT\n",
    "    (1, 0),  # DOWN\n",
    "    (0, 1),  # RIGHT\n",
    "    (-1, 0)  # UP\n",
    "]"
   ]
  },
  {
   "cell_type": "code",
   "execution_count": null,
   "metadata": {},
   "outputs": [],
   "source": [
    "trailheads = find_trailheads(topo_map)\n",
    "trailheads"
   ]
  },
  {
   "cell_type": "code",
   "execution_count": null,
   "metadata": {},
   "outputs": [],
   "source": [
    "from copy import copy\n",
    "from collections import deque\n",
    "\n",
    "def find_hiking_paths(topo_map: list[list[int]], trailhead: tuple[int, int]):\n",
    "    finished_paths = []\n",
    "    to_check = deque([[trailhead]])\n",
    "    map_rows = len(topo_map)\n",
    "    map_cols = len(topo_map[0])\n",
    "\n",
    "    def point_correct(point: tuple[int, int], previous_height: int) -> bool:\n",
    "        return 0 <= point[0] < map_rows and 0 <= point[1] < map_cols and (previous_height+1) == topo_map[point[0]][point[1]]\n",
    "\n",
    "    while len(to_check) > 0:\n",
    "        path = to_check.pop()\n",
    "        last = path[-1]\n",
    "        previous_height = topo_map[last[0]][last[1]]\n",
    "        if previous_height == 9:\n",
    "            finished_paths.append(path)\n",
    "        else:\n",
    "            candidate_coords = [(last[0] + d[0], last[1] + d[1]) for d in DIRECTIONS]\n",
    "            correct_coords = [p for p in candidate_coords if point_correct(p, previous_height)]\n",
    "            for new_point in correct_coords:\n",
    "                new_path = copy(path)\n",
    "                new_path.append(new_point)\n",
    "                to_check.append(new_path)\n",
    "    \n",
    "    return finished_paths\n",
    "\n"
   ]
  },
  {
   "cell_type": "code",
   "execution_count": null,
   "metadata": {},
   "outputs": [],
   "source": [
    "hiking_paths_per_trailhead = {\n",
    "    t: find_hiking_paths(topo_map, t)\n",
    "    for t in trailheads\n",
    "}\n",
    "hiking_paths_per_trailhead"
   ]
  },
  {
   "cell_type": "code",
   "execution_count": null,
   "metadata": {},
   "outputs": [],
   "source": [
    "unique_last_points_per_trailhead = {\n",
    "    t: set(p[-1] for p in paths) for t, paths in hiking_paths_per_trailhead.items()\n",
    "}\n",
    "unique_last_points_per_trailhead"
   ]
  },
  {
   "cell_type": "code",
   "execution_count": null,
   "metadata": {},
   "outputs": [],
   "source": [
    "scores = [len(last_points) for last_points in unique_last_points_per_trailhead.values()]\n",
    "scores"
   ]
  },
  {
   "cell_type": "code",
   "execution_count": null,
   "metadata": {},
   "outputs": [],
   "source": [
    "total_score = sum(scores)\n",
    "total_score"
   ]
  },
  {
   "cell_type": "markdown",
   "metadata": {},
   "source": [
    "## Part 2"
   ]
  },
  {
   "cell_type": "code",
   "execution_count": null,
   "metadata": {},
   "outputs": [],
   "source": [
    "num_paths = {\n",
    "    t: len(paths)\n",
    "    for t, paths in hiking_paths_per_trailhead.items()\n",
    "}\n",
    "num_paths"
   ]
  },
  {
   "cell_type": "code",
   "execution_count": null,
   "metadata": {},
   "outputs": [],
   "source": [
    "sum(\n",
    "    num_paths.values()\n",
    ")"
   ]
  }
 ],
 "metadata": {
  "kernelspec": {
   "display_name": ".venv",
   "language": "python",
   "name": "python3"
  },
  "language_info": {
   "codemirror_mode": {
    "name": "ipython",
    "version": 3
   },
   "file_extension": ".py",
   "mimetype": "text/x-python",
   "name": "python",
   "nbconvert_exporter": "python",
   "pygments_lexer": "ipython3",
   "version": "3.12.4"
  }
 },
 "nbformat": 4,
 "nbformat_minor": 2
}
