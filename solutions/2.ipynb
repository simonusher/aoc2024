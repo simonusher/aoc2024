{
 "cells": [
  {
   "cell_type": "code",
   "execution_count": null,
   "metadata": {},
   "outputs": [],
   "source": [
    "from aoc2024 import load_example, load_input"
   ]
  },
  {
   "cell_type": "code",
   "execution_count": null,
   "metadata": {},
   "outputs": [],
   "source": [
    "data = load_input(2)\n",
    "reports = [\n",
    "    [int(val) for val in report.split()]\n",
    "    for report in data.splitlines()\n",
    "]\n",
    "reports"
   ]
  },
  {
   "cell_type": "markdown",
   "metadata": {},
   "source": [
    "## Part 1"
   ]
  },
  {
   "cell_type": "code",
   "execution_count": null,
   "metadata": {},
   "outputs": [],
   "source": [
    "def is_safe(report: list[int]) -> bool:\n",
    "    first_diff = report[1] - report[0]\n",
    "    abs_diff = abs(first_diff)\n",
    "    if abs_diff < 1 or abs_diff > 3:\n",
    "        return False\n",
    "    \n",
    "    for i in range(2, len(report)):\n",
    "        val = report[i]\n",
    "        previous_val = report[i-1]\n",
    "        diff = val - previous_val\n",
    "        abs_diff = abs(diff)\n",
    "\n",
    "        if ((first_diff > 0) != (diff > 0)) or abs_diff < 1 or abs_diff > 3:\n",
    "            return False\n",
    "    \n",
    "    return True"
   ]
  },
  {
   "cell_type": "code",
   "execution_count": null,
   "metadata": {},
   "outputs": [],
   "source": [
    "sum(is_safe(r) for r in reports)"
   ]
  },
  {
   "cell_type": "markdown",
   "metadata": {},
   "source": [
    "## Part 2"
   ]
  },
  {
   "cell_type": "markdown",
   "metadata": {},
   "source": [
    "### Brute force approach"
   ]
  },
  {
   "cell_type": "code",
   "execution_count": null,
   "metadata": {},
   "outputs": [],
   "source": [
    "def is_safe_2(report: list[int]) -> bool:\n",
    "    is_safe_full = is_safe(report)\n",
    "\n",
    "    if is_safe_full:\n",
    "        return True\n",
    "    \n",
    "    for i in range(0, len(report)):\n",
    "        sublist = report[0:i] + report[i+1:]\n",
    "        is_safe_sublist = is_safe(sublist)\n",
    "        if is_safe_sublist:\n",
    "            return True\n",
    "    return False"
   ]
  },
  {
   "cell_type": "code",
   "execution_count": null,
   "metadata": {},
   "outputs": [],
   "source": [
    "sum(is_safe_2(r) for r in reports)"
   ]
  }
 ],
 "metadata": {
  "kernelspec": {
   "display_name": ".venv",
   "language": "python",
   "name": "python3"
  },
  "language_info": {
   "codemirror_mode": {
    "name": "ipython",
    "version": 3
   },
   "file_extension": ".py",
   "mimetype": "text/x-python",
   "name": "python",
   "nbconvert_exporter": "python",
   "pygments_lexer": "ipython3",
   "version": "3.12.4"
  }
 },
 "nbformat": 4,
 "nbformat_minor": 2
}
