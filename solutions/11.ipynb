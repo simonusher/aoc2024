{
 "cells": [
  {
   "cell_type": "code",
   "execution_count": null,
   "metadata": {},
   "outputs": [],
   "source": [
    "from aoc2024 import load_example, load_input"
   ]
  },
  {
   "cell_type": "code",
   "execution_count": null,
   "metadata": {},
   "outputs": [],
   "source": [
    "stones = [int(s) for s in load_input(11).split()]\n",
    "stones"
   ]
  },
  {
   "cell_type": "code",
   "execution_count": null,
   "metadata": {},
   "outputs": [],
   "source": [
    "def handle_single_blink(stone: int) -> list[int]:\n",
    "    if stone == 0:\n",
    "        return [1]\n",
    "    elif (num_digits := len(stone_digits := str(stone))) % 2 == 0:\n",
    "        first_stone = int(stone_digits[:num_digits // 2])\n",
    "        second_stone = int(stone_digits[num_digits // 2:])\n",
    "        return [first_stone, second_stone]\n",
    "    else:\n",
    "        return [stone * 2024]"
   ]
  },
  {
   "cell_type": "code",
   "execution_count": null,
   "metadata": {},
   "outputs": [],
   "source": [
    "def handle_all_stones_blink(stones: list[int]) -> list[int]:\n",
    "    res = []\n",
    "    for stone in stones:\n",
    "        res.extend(handle_single_blink(stone))\n",
    "    return res"
   ]
  },
  {
   "cell_type": "code",
   "execution_count": null,
   "metadata": {},
   "outputs": [],
   "source": [
    "def handle_n_blinks(n: int, stones: list[int]):\n",
    "    for i in range(n):\n",
    "        stones = handle_all_stones_blink(stones)\n",
    "    return stones"
   ]
  },
  {
   "cell_type": "code",
   "execution_count": null,
   "metadata": {},
   "outputs": [],
   "source": [
    "len(handle_n_blinks(25, stones))"
   ]
  },
  {
   "cell_type": "markdown",
   "metadata": {},
   "source": [
    "## Part 2"
   ]
  },
  {
   "cell_type": "code",
   "execution_count": null,
   "metadata": {},
   "outputs": [],
   "source": [
    "import functools\n",
    "import time\n",
    "\n",
    "@functools.cache\n",
    "def num_stones_after_blinking(stone: int, times: int) -> int:\n",
    "    if times == 0:\n",
    "        return 1\n",
    "    else:\n",
    "        if stone == 0:\n",
    "            return num_stones_after_blinking(1, times-1)\n",
    "        elif (num_digits := len(stone_digits := str(stone))) % 2 == 0:\n",
    "            first_stone = int(stone_digits[:num_digits // 2])\n",
    "            second_stone = int(stone_digits[num_digits // 2:])\n",
    "            return num_stones_after_blinking(first_stone, times-1) + num_stones_after_blinking(second_stone, times-1)\n",
    "        else:\n",
    "            return num_stones_after_blinking(stone * 2024, times-1)"
   ]
  },
  {
   "cell_type": "code",
   "execution_count": null,
   "metadata": {},
   "outputs": [],
   "source": [
    "sum(num_stones_after_blinking(s, 75) for s in stones)"
   ]
  }
 ],
 "metadata": {
  "kernelspec": {
   "display_name": ".venv",
   "language": "python",
   "name": "python3"
  },
  "language_info": {
   "codemirror_mode": {
    "name": "ipython",
    "version": 3
   },
   "file_extension": ".py",
   "mimetype": "text/x-python",
   "name": "python",
   "nbconvert_exporter": "python",
   "pygments_lexer": "ipython3",
   "version": "3.12.4"
  }
 },
 "nbformat": 4,
 "nbformat_minor": 2
}
