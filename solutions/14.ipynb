{
 "cells": [
  {
   "cell_type": "code",
   "execution_count": null,
   "metadata": {},
   "outputs": [],
   "source": [
    "from aoc2024 import load_example, load_input\n",
    "import math"
   ]
  },
  {
   "cell_type": "code",
   "execution_count": null,
   "metadata": {},
   "outputs": [],
   "source": [
    "data = load_example(14)\n",
    "data"
   ]
  },
  {
   "cell_type": "code",
   "execution_count": null,
   "metadata": {},
   "outputs": [],
   "source": [
    "def parse_robots(data: str) -> list[tuple[tuple[int, int], tuple[int, int]]]:\n",
    "    res = []\n",
    "    for line in data.splitlines():\n",
    "        position_str, velocity_str = line.split(\" \")\n",
    "        p_x, p_y = [int(x) for x in position_str[2:].split(\",\")]\n",
    "        v_x, v_y = [int(x) for x in velocity_str[2:].split(\",\")]\n",
    "        res.append(((p_x, p_y), (v_x, v_y)))\n",
    "    return res"
   ]
  },
  {
   "cell_type": "code",
   "execution_count": null,
   "metadata": {},
   "outputs": [],
   "source": [
    "robots = parse_robots(data)\n",
    "robots"
   ]
  },
  {
   "cell_type": "code",
   "execution_count": null,
   "metadata": {},
   "outputs": [],
   "source": [
    "def divide_tiles(size: int) -> tuple[int, int]:\n",
    "    tile_to_ex = math.floor(size / 2)\n",
    "    tile_from_inc = math.ceil(size / 2)\n",
    "\n",
    "    return tile_to_ex, tile_from_inc"
   ]
  },
  {
   "cell_type": "code",
   "execution_count": null,
   "metadata": {},
   "outputs": [],
   "source": [
    "WIDTH = 11\n",
    "HEIGHT = 7\n",
    "\n",
    "SECONDS_TO_SIMULATE = 100\n",
    "\n",
    "\n",
    "WIDTH_TO_EX, WIDTH_FROM_INC = divide_tiles(WIDTH)\n",
    "HEIGTH_TO_EX, HEIGHT_FROM_INC = divide_tiles(HEIGHT)\n",
    "\n",
    "\n",
    "QUADRANTS = [\n",
    "    ((0, WIDTH_TO_EX), (0, HEIGTH_TO_EX)),\n",
    "    ((0, WIDTH_TO_EX), (HEIGHT_FROM_INC, HEIGHT)),\n",
    "    ((WIDTH_FROM_INC, WIDTH), (HEIGHT_FROM_INC, HEIGHT)),\n",
    "    ((WIDTH_FROM_INC, WIDTH), (0, HEIGTH_TO_EX)),\n",
    "]\n",
    "\n",
    "\n",
    "def map_to_quadrant(x: int, y: int) -> int | None:\n",
    "    for i, ((WIDTH_FROM_INC, WIDTH_TO_EX), (HEIGHT_FROM_INC, HEIGTH_TO_EX)) in enumerate(QUADRANTS):\n",
    "        if WIDTH_FROM_INC <= x < WIDTH_TO_EX and HEIGHT_FROM_INC <= y < HEIGTH_TO_EX:\n",
    "            return i\n",
    "    return None"
   ]
  },
  {
   "cell_type": "code",
   "execution_count": null,
   "metadata": {},
   "outputs": [],
   "source": [
    "def move(robot: tuple[tuple[int, int], tuple[int, int]], floor_width: int, floor_height: int, seconds: int) -> tuple[int, int]:\n",
    "    (p_x, p_y), (v_x, v_y) = robot\n",
    "\n",
    "    new_p_x = (p_x + v_x * seconds) % floor_width\n",
    "    new_p_y = (p_y + v_y * seconds) % floor_height\n",
    "    return new_p_x, new_p_y"
   ]
  },
  {
   "cell_type": "code",
   "execution_count": null,
   "metadata": {},
   "outputs": [],
   "source": [
    "new_robot_positions = [\n",
    "    move(r, WIDTH, HEIGHT, SECONDS_TO_SIMULATE)\n",
    "    for r in robots\n",
    "]\n",
    "new_robot_positions"
   ]
  },
  {
   "cell_type": "code",
   "execution_count": null,
   "metadata": {},
   "outputs": [],
   "source": [
    "robot_quadrants = [\n",
    "    map_to_quadrant(*pos) for pos in new_robot_positions\n",
    "]\n",
    "robot_quadrants = [\n",
    "    q for q in robot_quadrants if q is not None\n",
    "]\n",
    "robot_quadrants"
   ]
  },
  {
   "cell_type": "code",
   "execution_count": null,
   "metadata": {},
   "outputs": [],
   "source": [
    "from collections import Counter\n",
    "\n",
    "quadrant_counts = Counter(robot_quadrants)\n",
    "quadrant_counts"
   ]
  },
  {
   "cell_type": "code",
   "execution_count": null,
   "metadata": {},
   "outputs": [],
   "source": [
    "from operator import mul\n",
    "from functools import reduce\n",
    "\n",
    "safety_factor = reduce(mul, quadrant_counts.values())\n",
    "safety_factor"
   ]
  },
  {
   "cell_type": "markdown",
   "metadata": {},
   "source": [
    "## Part 2"
   ]
  },
  {
   "cell_type": "code",
   "execution_count": null,
   "metadata": {},
   "outputs": [],
   "source": [
    "from operator import itemgetter\n",
    "\n",
    "def print_robots(robots: list[tuple[int, int]]):\n",
    "    image = [[\".\" for x in range(WIDTH)] for y in range (HEIGHT)]\n",
    "\n",
    "    for x, y in robots:\n",
    "        if image[y][x] == \".\":\n",
    "            image[y][x] = 1\n",
    "        else:\n",
    "            image[y][x] += 1\n",
    "\n",
    "    print(\"\\n\".join([\"\".join([str(x) for x in row]) for row in image]))"
   ]
  },
  {
   "cell_type": "code",
   "execution_count": null,
   "metadata": {},
   "outputs": [],
   "source": [
    "robots_positions = [r[0] for r in robots]\n",
    "robot_velocities = [r[1] for r in robots]\n",
    "robot_velocities"
   ]
  },
  {
   "cell_type": "code",
   "execution_count": null,
   "metadata": {},
   "outputs": [],
   "source": [
    "new_robot_positions = robots_positions"
   ]
  },
  {
   "cell_type": "code",
   "execution_count": null,
   "metadata": {},
   "outputs": [],
   "source": [
    "new_robot_positions = [move((p, v), WIDTH, HEIGHT, 1) for p, v in zip(new_robot_positions, robot_velocities)]\n",
    "print_robots(new_robot_positions)"
   ]
  },
  {
   "cell_type": "code",
   "execution_count": null,
   "metadata": {},
   "outputs": [],
   "source": [
    "len(robots)"
   ]
  },
  {
   "cell_type": "code",
   "execution_count": null,
   "metadata": {},
   "outputs": [],
   "source": []
  }
 ],
 "metadata": {
  "kernelspec": {
   "display_name": ".venv",
   "language": "python",
   "name": "python3"
  },
  "language_info": {
   "codemirror_mode": {
    "name": "ipython",
    "version": 3
   },
   "file_extension": ".py",
   "mimetype": "text/x-python",
   "name": "python",
   "nbconvert_exporter": "python",
   "pygments_lexer": "ipython3",
   "version": "3.12.4"
  }
 },
 "nbformat": 4,
 "nbformat_minor": 2
}
