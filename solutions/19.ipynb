{
 "cells": [
  {
   "cell_type": "code",
   "execution_count": null,
   "metadata": {},
   "outputs": [],
   "source": [
    "from aoc2024 import load_example, load_input"
   ]
  },
  {
   "cell_type": "code",
   "execution_count": null,
   "metadata": {},
   "outputs": [],
   "source": [
    "data = load_input(19)\n",
    "towels_str, designs_str = data.split(\"\\n\\n\")\n",
    "towels = towels_str.split(\", \")\n",
    "designs = designs_str.splitlines()\n",
    "towels, designs"
   ]
  },
  {
   "cell_type": "code",
   "execution_count": null,
   "metadata": {},
   "outputs": [],
   "source": [
    "def is_design_possible(design: str):\n",
    "    candidates = [t for t in towels if design.startswith(t)]\n",
    "    if any(c == design for c in candidates):\n",
    "        return True\n",
    "    else:\n",
    "        return any(is_design_possible(design.removeprefix(c)) for c in candidates)"
   ]
  },
  {
   "cell_type": "code",
   "execution_count": null,
   "metadata": {},
   "outputs": [],
   "source": [
    "possible = [is_design_possible(d) for d in designs]\n",
    "possible"
   ]
  },
  {
   "cell_type": "code",
   "execution_count": null,
   "metadata": {},
   "outputs": [],
   "source": [
    "sum(possible)"
   ]
  },
  {
   "cell_type": "markdown",
   "metadata": {},
   "source": [
    "## Part 2"
   ]
  },
  {
   "cell_type": "code",
   "execution_count": null,
   "metadata": {},
   "outputs": [],
   "source": [
    "def get_arrangements(design: str):\n",
    "    candidates = [t for t in towels if design.startswith(t)]\n",
    "\n",
    "    res = []\n",
    "\n",
    "    for c in candidates:\n",
    "        if c == design:\n",
    "            res.append([c])\n",
    "        else:\n",
    "            arrangements = get_arrangements(design.removeprefix(c))\n",
    "            for a in arrangements:\n",
    "                res.append([c, *a])\n",
    "    \n",
    "    return res"
   ]
  },
  {
   "cell_type": "code",
   "execution_count": null,
   "metadata": {},
   "outputs": [],
   "source": [
    "from functools import cache\n",
    "\n",
    "@cache\n",
    "def get_num_arrangements(design: str):\n",
    "    if design == \"\":\n",
    "        return 1\n",
    "    \n",
    "    candidates = [t for t in towels if design.startswith(t)]\n",
    "\n",
    "    return sum(get_num_arrangements(design.removeprefix(c)) for c in candidates)"
   ]
  },
  {
   "cell_type": "code",
   "execution_count": null,
   "metadata": {},
   "outputs": [],
   "source": [
    "get_num_arrangements(designs[1])"
   ]
  },
  {
   "cell_type": "code",
   "execution_count": null,
   "metadata": {},
   "outputs": [],
   "source": [
    "sum(get_num_arrangements(d) for d in designs)"
   ]
  }
 ],
 "metadata": {
  "kernelspec": {
   "display_name": ".venv",
   "language": "python",
   "name": "python3"
  },
  "language_info": {
   "codemirror_mode": {
    "name": "ipython",
    "version": 3
   },
   "file_extension": ".py",
   "mimetype": "text/x-python",
   "name": "python",
   "nbconvert_exporter": "python",
   "pygments_lexer": "ipython3",
   "version": "3.12.4"
  }
 },
 "nbformat": 4,
 "nbformat_minor": 2
}
