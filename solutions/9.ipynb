{
 "cells": [
  {
   "cell_type": "code",
   "execution_count": null,
   "metadata": {},
   "outputs": [],
   "source": [
    "from aoc2024 import load_example, load_input"
   ]
  },
  {
   "cell_type": "code",
   "execution_count": null,
   "metadata": {},
   "outputs": [],
   "source": [
    "disk_map = load_input(9).strip()"
   ]
  },
  {
   "cell_type": "code",
   "execution_count": null,
   "metadata": {},
   "outputs": [],
   "source": [
    "disk_map"
   ]
  },
  {
   "cell_type": "code",
   "execution_count": null,
   "metadata": {},
   "outputs": [],
   "source": [
    "def unroll_disk_map(disk_map: str) -> tuple[list[str], list[int], list[tuple[int, int]], list[tuple[int, int]]]:\n",
    "    blocks = []\n",
    "\n",
    "    file_index = 0\n",
    "\n",
    "    empty_indexes = []\n",
    "    empty_ranges = []\n",
    "    file_ranges = []\n",
    "\n",
    "    for i, elem in enumerate(disk_map):\n",
    "        if i % 2 == 0:\n",
    "            block_char = str(file_index)\n",
    "            file_ranges.append((len(blocks), int(elem)))\n",
    "            file_index += 1\n",
    "        else:\n",
    "            block_char = \".\"\n",
    "            empty_ranges.append((len(blocks), int(elem)))\n",
    "            empty_indexes.extend(list(range(len(blocks), len(blocks) + int(elem))))\n",
    "        blocks.extend([block_char] * int(elem))\n",
    "    \n",
    "    return blocks, empty_indexes, empty_ranges, file_ranges"
   ]
  },
  {
   "cell_type": "code",
   "execution_count": null,
   "metadata": {},
   "outputs": [],
   "source": [
    "from copy import deepcopy\n",
    "def rearrange_map(unrolled_map: list[str], empty_spaces: list[int]) -> list[str]:\n",
    "    unrolled_map = deepcopy(unrolled_map)\n",
    "    for i, elem in list(enumerate(unrolled_map))[::-1]:\n",
    "        if elem != \".\" and len(empty_spaces) > 0:\n",
    "            empty_space, *empty_spaces = empty_spaces\n",
    "            if empty_space >= i:\n",
    "                break\n",
    "\n",
    "            unrolled_map[empty_space] = elem\n",
    "            unrolled_map[i] = \".\"\n",
    "    \n",
    "    return unrolled_map"
   ]
  },
  {
   "cell_type": "code",
   "execution_count": null,
   "metadata": {},
   "outputs": [],
   "source": [
    "unrolled_map, empty_spaces, empty_ranges, file_ranges = unroll_disk_map(disk_map)\n",
    "unrolled_map, empty_spaces, empty_ranges, file_ranges"
   ]
  },
  {
   "cell_type": "code",
   "execution_count": null,
   "metadata": {},
   "outputs": [],
   "source": [
    "defragmented_map = rearrange_map(unrolled_map, empty_spaces)\n",
    "\"\".join(defragmented_map)"
   ]
  },
  {
   "cell_type": "code",
   "execution_count": null,
   "metadata": {},
   "outputs": [],
   "source": [
    "def calculate_checksum(unrolled_map: list[str]) -> int:\n",
    "    s = 0\n",
    "    for i, elem in enumerate(unrolled_map):\n",
    "        if elem != \".\":\n",
    "            s += i * int(elem)\n",
    "    return s"
   ]
  },
  {
   "cell_type": "code",
   "execution_count": null,
   "metadata": {},
   "outputs": [],
   "source": [
    "calculate_checksum(defragmented_map)"
   ]
  },
  {
   "cell_type": "markdown",
   "metadata": {},
   "source": [
    "## Part 2"
   ]
  },
  {
   "cell_type": "code",
   "execution_count": null,
   "metadata": {},
   "outputs": [],
   "source": [
    "from copy import deepcopy\n",
    "def defragment_map_full_files(unrolled_map: list[str], empty_ranges: list[tuple[int, int]], file_ranges: list[tuple[int, int]]) -> list[str]:\n",
    "    unrolled_map = deepcopy(unrolled_map)\n",
    "    empty_ranges = deepcopy(empty_ranges)\n",
    "    file_ranges = deepcopy(file_ranges)\n",
    "\n",
    "    for file_index, (file_position, file_size) in list(enumerate(file_ranges))[::-1]:\n",
    "        for empty_index, (empty_position, empty_size) in enumerate(empty_ranges):\n",
    "            if empty_position >= file_position:\n",
    "                break\n",
    "            if empty_size >= file_size:\n",
    "                unrolled_map[empty_position:empty_position+file_size] = [str(file_index)] * file_size\n",
    "                unrolled_map[file_position:file_position+file_size] = [\".\"] * file_size\n",
    "                empty_ranges[empty_index] = (empty_position + file_size, empty_size - file_size)\n",
    "                break\n",
    "\n",
    "    return unrolled_map"
   ]
  },
  {
   "cell_type": "code",
   "execution_count": null,
   "metadata": {},
   "outputs": [],
   "source": [
    "defragmented_full_files = defragment_map_full_files(unrolled_map, empty_ranges, file_ranges)\n",
    "defragmented_full_files"
   ]
  },
  {
   "cell_type": "code",
   "execution_count": null,
   "metadata": {},
   "outputs": [],
   "source": [
    "calculate_checksum(defragmented_full_files)"
   ]
  }
 ],
 "metadata": {
  "kernelspec": {
   "display_name": ".venv",
   "language": "python",
   "name": "python3"
  },
  "language_info": {
   "codemirror_mode": {
    "name": "ipython",
    "version": 3
   },
   "file_extension": ".py",
   "mimetype": "text/x-python",
   "name": "python",
   "nbconvert_exporter": "python",
   "pygments_lexer": "ipython3",
   "version": "3.12.4"
  }
 },
 "nbformat": 4,
 "nbformat_minor": 2
}
