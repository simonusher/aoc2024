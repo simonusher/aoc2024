{
 "cells": [
  {
   "cell_type": "code",
   "execution_count": null,
   "metadata": {},
   "outputs": [],
   "source": [
    "from aoc2024 import load_example, load_input"
   ]
  },
  {
   "cell_type": "code",
   "execution_count": null,
   "metadata": {},
   "outputs": [],
   "source": [
    "input = load_input(3)\n",
    "input"
   ]
  },
  {
   "cell_type": "markdown",
   "metadata": {},
   "source": [
    "## Part 1"
   ]
  },
  {
   "cell_type": "code",
   "execution_count": null,
   "metadata": {},
   "outputs": [],
   "source": [
    "import re\n",
    "def find_correct_muls(input: str) -> list[str]:\n",
    "    pattern = r'mul\\(\\d{1,3},\\d{1,3}\\)'\n",
    "    return re.findall(pattern, input)\n"
   ]
  },
  {
   "cell_type": "code",
   "execution_count": null,
   "metadata": {},
   "outputs": [],
   "source": [
    "def parse_mul(mul_op: str) -> tuple[int, int]:\n",
    "    first, second = map(int, mul_op.replace(\"mul(\", \"\").replace(\")\", \"\").split(\",\"))\n",
    "    return first, second"
   ]
  },
  {
   "cell_type": "code",
   "execution_count": null,
   "metadata": {},
   "outputs": [],
   "source": [
    "correct_muls = find_correct_muls(input)\n",
    "correct_muls"
   ]
  },
  {
   "cell_type": "code",
   "execution_count": null,
   "metadata": {},
   "outputs": [],
   "source": [
    "numbers = list(map(parse_mul, correct_muls))\n",
    "numbers"
   ]
  },
  {
   "cell_type": "code",
   "execution_count": null,
   "metadata": {},
   "outputs": [],
   "source": [
    "s = sum(x * y for x,y in numbers)\n",
    "s"
   ]
  },
  {
   "cell_type": "markdown",
   "metadata": {},
   "source": [
    "## Part 2"
   ]
  },
  {
   "cell_type": "code",
   "execution_count": null,
   "metadata": {},
   "outputs": [],
   "source": [
    "def find_instructions(input: str) -> list[str]:\n",
    "    pattern = r\"(mul\\(\\d{1,3},\\d{1,3}\\))|(do\\(\\))|(don\\'t\\(\\))\"\n",
    "    instructions = [group for match in re.findall(pattern, input) for group in match if group != '']\n",
    "    return instructions"
   ]
  },
  {
   "cell_type": "code",
   "execution_count": null,
   "metadata": {},
   "outputs": [],
   "source": [
    "instructions = find_instructions(input)\n",
    "instructions"
   ]
  },
  {
   "cell_type": "code",
   "execution_count": null,
   "metadata": {},
   "outputs": [],
   "source": [
    "def filter_muls(instructions: list[str]) -> list[str]:\n",
    "    result = []\n",
    "    keep_muls = True\n",
    "    for instruction in instructions:\n",
    "        if instruction == \"do()\":\n",
    "            keep_muls = True\n",
    "        elif instruction == \"don't()\":\n",
    "            keep_muls = False\n",
    "        else:\n",
    "            if keep_muls:\n",
    "                result.append(instruction)\n",
    "    \n",
    "    return result"
   ]
  },
  {
   "cell_type": "code",
   "execution_count": null,
   "metadata": {},
   "outputs": [],
   "source": [
    "filtered_muls = filter_muls(instructions)\n",
    "filtered_numbers = list(map(parse_mul, filtered_muls))\n",
    "\n",
    "s = sum(x * y for x,y in filtered_numbers)\n",
    "s"
   ]
  }
 ],
 "metadata": {
  "kernelspec": {
   "display_name": ".venv",
   "language": "python",
   "name": "python3"
  },
  "language_info": {
   "codemirror_mode": {
    "name": "ipython",
    "version": 3
   },
   "file_extension": ".py",
   "mimetype": "text/x-python",
   "name": "python",
   "nbconvert_exporter": "python",
   "pygments_lexer": "ipython3",
   "version": "3.12.4"
  }
 },
 "nbformat": 4,
 "nbformat_minor": 2
}
