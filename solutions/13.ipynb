{
 "cells": [
  {
   "cell_type": "code",
   "execution_count": null,
   "metadata": {},
   "outputs": [],
   "source": [
    "import math"
   ]
  },
  {
   "cell_type": "code",
   "execution_count": null,
   "metadata": {},
   "outputs": [],
   "source": [
    "from aoc2024 import load_example, load_input"
   ]
  },
  {
   "cell_type": "code",
   "execution_count": null,
   "metadata": {},
   "outputs": [],
   "source": [
    "data = load_input(13)"
   ]
  },
  {
   "cell_type": "code",
   "execution_count": null,
   "metadata": {},
   "outputs": [],
   "source": [
    "def parse_single_equation(equation: str) -> tuple[int, int, int, int, int, int]:\n",
    "    button_a_str, button_b_str, prize_str = equation.split(\"\\n\")\n",
    "    a_x_diff, a_y_diff = [int(n) for n in button_a_str[12:].split(\", Y+\")]\n",
    "    b_x_diff, b_y_diff = [int(n) for n in button_b_str[12:].split(\", Y+\")]\n",
    "    prize_x, prize_y = [int(n) for n in prize_str[9:].split(\", Y=\")]\n",
    "\n",
    "    return a_x_diff, a_y_diff, b_x_diff, b_y_diff, prize_x, prize_y\n",
    "    \n",
    "\n",
    "def parse_equations(data: str) -> list[tuple[int, int, int, int, int, int]]:\n",
    "    equation_strings = [e.strip() for e in data.split(\"\\n\\n\") if e.strip() != \"\"]\n",
    "    return [parse_single_equation(e) for e in equation_strings]"
   ]
  },
  {
   "cell_type": "code",
   "execution_count": null,
   "metadata": {},
   "outputs": [],
   "source": [
    "equations = parse_equations(data)\n",
    "equations"
   ]
  },
  {
   "cell_type": "code",
   "execution_count": null,
   "metadata": {},
   "outputs": [],
   "source": [
    "def solve_claw_machine(a_x_diff: int, a_y_diff: int, b_x_diff: int, b_y_diff: int, prize_x: int, prize_y: int, max_button_presses: int | None = 100) -> tuple[int, int] | None:\n",
    "    n_lcm = math.lcm(a_x_diff, a_y_diff)\n",
    "    first_multiplier = n_lcm / a_x_diff\n",
    "    first_m_val = first_multiplier * b_x_diff\n",
    "    x_multiplied = first_multiplier * prize_x\n",
    "\n",
    "    second_multiplier = n_lcm / a_y_diff\n",
    "    second_m_val = second_multiplier * b_y_diff\n",
    "    y_multiplied = second_multiplier * prize_y\n",
    "\n",
    "    m_val = second_m_val - first_m_val\n",
    "    right_side = y_multiplied - x_multiplied\n",
    "\n",
    "    m = right_side / m_val\n",
    "\n",
    "    n = (prize_x - m * b_x_diff) / a_x_diff\n",
    "\n",
    "    if n.is_integer() and m.is_integer():\n",
    "        if max_button_presses is not None and (n > max_button_presses or m > max_button_presses):\n",
    "            return None\n",
    "        else:\n",
    "            return int(n), int(m)\n",
    "    \n",
    "    return None"
   ]
  },
  {
   "cell_type": "code",
   "execution_count": null,
   "metadata": {},
   "outputs": [],
   "source": [
    "solutions = [solve_claw_machine(*e) for e in equations]\n",
    "solutions"
   ]
  },
  {
   "cell_type": "code",
   "execution_count": null,
   "metadata": {},
   "outputs": [],
   "source": [
    "correct_solutions = [s for s in solutions if s is not None]\n",
    "correct_solutions"
   ]
  },
  {
   "cell_type": "code",
   "execution_count": null,
   "metadata": {},
   "outputs": [],
   "source": [
    "costs = [\n",
    "    3 * n + m for (n,m) in correct_solutions\n",
    "]\n",
    "costs"
   ]
  },
  {
   "cell_type": "code",
   "execution_count": null,
   "metadata": {},
   "outputs": [],
   "source": [
    "sum(costs)"
   ]
  },
  {
   "cell_type": "markdown",
   "metadata": {},
   "source": [
    "## Part 2"
   ]
  },
  {
   "cell_type": "code",
   "execution_count": null,
   "metadata": {},
   "outputs": [],
   "source": [
    "equations"
   ]
  },
  {
   "cell_type": "code",
   "execution_count": null,
   "metadata": {},
   "outputs": [],
   "source": [
    "modified_equations = [\n",
    "    (*variables, prize_x + 10000000000000, prize_y + 10000000000000) for (*variables, prize_x, prize_y) in equations\n",
    "]\n",
    "modified_equations"
   ]
  },
  {
   "cell_type": "code",
   "execution_count": null,
   "metadata": {},
   "outputs": [],
   "source": [
    "solutions = [solve_claw_machine(*e, max_button_presses=None) for e in modified_equations]\n",
    "solutions"
   ]
  },
  {
   "cell_type": "code",
   "execution_count": null,
   "metadata": {},
   "outputs": [],
   "source": [
    "correct_solutions = [s for s in solutions if s is not None]\n",
    "correct_solutions"
   ]
  },
  {
   "cell_type": "code",
   "execution_count": null,
   "metadata": {},
   "outputs": [],
   "source": [
    "costs = [\n",
    "    3 * n + m for (n,m) in correct_solutions\n",
    "]\n",
    "costs"
   ]
  },
  {
   "cell_type": "code",
   "execution_count": null,
   "metadata": {},
   "outputs": [],
   "source": [
    "sum(costs)"
   ]
  }
 ],
 "metadata": {
  "kernelspec": {
   "display_name": ".venv",
   "language": "python",
   "name": "python3"
  },
  "language_info": {
   "codemirror_mode": {
    "name": "ipython",
    "version": 3
   },
   "file_extension": ".py",
   "mimetype": "text/x-python",
   "name": "python",
   "nbconvert_exporter": "python",
   "pygments_lexer": "ipython3",
   "version": "3.12.4"
  }
 },
 "nbformat": 4,
 "nbformat_minor": 2
}
