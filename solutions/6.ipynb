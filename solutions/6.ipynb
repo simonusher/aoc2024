{
 "cells": [
  {
   "cell_type": "code",
   "execution_count": null,
   "metadata": {},
   "outputs": [],
   "source": [
    "from aoc2024 import load_example, load_input"
   ]
  },
  {
   "cell_type": "code",
   "execution_count": null,
   "metadata": {},
   "outputs": [],
   "source": [
    "example = load_input(6)\n",
    "lab_map = example.splitlines()\n",
    "lab_map"
   ]
  },
  {
   "cell_type": "markdown",
   "metadata": {},
   "source": [
    "# Part 1"
   ]
  },
  {
   "cell_type": "code",
   "execution_count": null,
   "metadata": {},
   "outputs": [],
   "source": [
    "directions = [\n",
    "    (-1, 0), #UP,\n",
    "    ( 0, 1), #RIGHT,\n",
    "    ( 1, 0), #DOWN\n",
    "    ( 0,-1), #LEFT\n",
    "]\n",
    "\n",
    "def turn_right(direction_id: int) -> int:\n",
    "    return (direction_id + 1) % len(directions)"
   ]
  },
  {
   "cell_type": "code",
   "execution_count": null,
   "metadata": {},
   "outputs": [],
   "source": [
    "def follow_path(lab_map: list[str]) -> int:\n",
    "    direction_id = 0\n",
    "    direction = directions[direction_id]\n",
    "\n",
    "    position = (-1, -1)\n",
    "\n",
    "    for y, row in enumerate(lab_map):\n",
    "        x = row.find(\"^\")\n",
    "        if x != -1:\n",
    "            position = (y, x)\n",
    "            break\n",
    "    \n",
    "    rows = len(lab_map)\n",
    "    cols = len(lab_map[0])\n",
    "\n",
    "    visited_positions = set()\n",
    "\n",
    "    def position_correct(y: int, x: int) -> bool:\n",
    "        return -1 < y < rows and -1 < x < cols\n",
    "\n",
    "    while position_correct(*position):\n",
    "        visited_positions.add(position)\n",
    "        next_position = (position[0] + direction[0], position[1] + direction[1])\n",
    "\n",
    "        while position_correct(*next_position) and lab_map[next_position[0]][next_position[1]] == \"#\":\n",
    "            direction_id = turn_right(direction_id)\n",
    "            direction = directions[direction_id]\n",
    "            next_position = (position[0] + direction[0], position[1] + direction[1])\n",
    "        \n",
    "        if not position_correct(*next_position):\n",
    "            break\n",
    "        \n",
    "        position = next_position\n",
    "    \n",
    "    return len(visited_positions)"
   ]
  },
  {
   "cell_type": "code",
   "execution_count": null,
   "metadata": {},
   "outputs": [],
   "source": [
    "follow_path(lab_map=lab_map)"
   ]
  },
  {
   "cell_type": "markdown",
   "metadata": {},
   "source": [
    "## Part 2 awful brute force solution"
   ]
  },
  {
   "cell_type": "code",
   "execution_count": null,
   "metadata": {},
   "outputs": [],
   "source": [
    "from copy import deepcopy\n",
    "def check_obstructions(lab_map: list[str]) -> int:\n",
    "    obstruction_positions = set()\n",
    "\n",
    "    starting_position = (-1, -1)\n",
    "    for y, row in enumerate(lab_map):\n",
    "        x = row.find(\"^\")\n",
    "        if x != -1:\n",
    "            starting_position = (y, x)\n",
    "            break\n",
    "        \n",
    "    rows = len(lab_map)\n",
    "    cols = len(lab_map[0])\n",
    "\n",
    "    all_positions = rows * cols\n",
    "\n",
    "\n",
    "    possible_obstruction_positions = []\n",
    "    for y in range(len(lab_map)):\n",
    "        for x in range(len(lab_map[0])):\n",
    "            if lab_map[y][x] == \".\":\n",
    "                possible_obstruction_positions.append((y,x))\n",
    "    \n",
    "    for obstruction_y, obstruction_x in possible_obstruction_positions:\n",
    "        changed_map = deepcopy(lab_map)\n",
    "        current_row = changed_map[obstruction_y]\n",
    "        changed_map[obstruction_y] = current_row[0:obstruction_x] + \"#\" + current_row[obstruction_x+1:]\n",
    "\n",
    "        visited_positions = set()\n",
    "        direction_id = 0\n",
    "        direction = directions[direction_id]\n",
    "        position = starting_position\n",
    "\n",
    "        iterations_without_new_position = 0\n",
    "\n",
    "        def position_correct(y: int, x: int) -> bool:\n",
    "            return -1 < y < rows and -1 < x < cols\n",
    "\n",
    "        looped = False\n",
    "\n",
    "        while position_correct(*position) and not looped:\n",
    "            if position in visited_positions:\n",
    "                iterations_without_new_position += 1\n",
    "            else:\n",
    "                visited_positions.add(position)\n",
    "                iterations_without_new_position = 0\n",
    "            \n",
    "            if iterations_without_new_position > all_positions * 2:\n",
    "                looped = True\n",
    "\n",
    "            next_position = (position[0] + direction[0], position[1] + direction[1])\n",
    "\n",
    "            while position_correct(*next_position) and changed_map[next_position[0]][next_position[1]] == \"#\":\n",
    "                direction_id = turn_right(direction_id)\n",
    "                direction = directions[direction_id]\n",
    "                next_position = (position[0] + direction[0], position[1] + direction[1])\n",
    "            \n",
    "            if not position_correct(*next_position):\n",
    "                break\n",
    "            \n",
    "            position = next_position\n",
    "        \n",
    "        if looped:\n",
    "            obstruction_positions.add((obstruction_y, obstruction_x))\n",
    "\n",
    "    \n",
    "    return len(obstruction_positions)"
   ]
  },
  {
   "cell_type": "code",
   "execution_count": null,
   "metadata": {},
   "outputs": [],
   "source": [
    "check_obstructions(lab_map=lab_map)"
   ]
  },
  {
   "cell_type": "code",
   "execution_count": null,
   "metadata": {},
   "outputs": [],
   "source": []
  }
 ],
 "metadata": {
  "kernelspec": {
   "display_name": ".venv",
   "language": "python",
   "name": "python3"
  },
  "language_info": {
   "codemirror_mode": {
    "name": "ipython",
    "version": 3
   },
   "file_extension": ".py",
   "mimetype": "text/x-python",
   "name": "python",
   "nbconvert_exporter": "python",
   "pygments_lexer": "ipython3",
   "version": "3.12.4"
  }
 },
 "nbformat": 4,
 "nbformat_minor": 2
}
