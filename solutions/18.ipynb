{
 "cells": [
  {
   "cell_type": "code",
   "execution_count": null,
   "metadata": {},
   "outputs": [],
   "source": [
    "from aoc2024 import load_input, load_example"
   ]
  },
  {
   "cell_type": "code",
   "execution_count": null,
   "metadata": {},
   "outputs": [],
   "source": [
    "GRID_SIZE = 7\n",
    "BYTES_TO_SIMULATE = 12\n",
    "\n",
    "data = load_example(18).strip().splitlines()\n",
    "data"
   ]
  },
  {
   "cell_type": "code",
   "execution_count": null,
   "metadata": {},
   "outputs": [],
   "source": [
    "GRID_SIZE = 71\n",
    "BYTES_TO_SIMULATE = 1024\n",
    "\n",
    "data = load_input(18).strip().splitlines()\n",
    "data"
   ]
  },
  {
   "cell_type": "code",
   "execution_count": null,
   "metadata": {},
   "outputs": [],
   "source": [
    "coordinates = [row.split(\",\") for row in data]\n",
    "coordinates = [(int(r[0]), int(r[1])) for r in coordinates]\n",
    "coordinates"
   ]
  },
  {
   "cell_type": "code",
   "execution_count": null,
   "metadata": {},
   "outputs": [],
   "source": [
    "grid = [['.' for _ in range(GRID_SIZE)] for _ in range(GRID_SIZE)]\n",
    "grid"
   ]
  },
  {
   "cell_type": "code",
   "execution_count": null,
   "metadata": {},
   "outputs": [],
   "source": [
    "coordinates"
   ]
  },
  {
   "cell_type": "code",
   "execution_count": null,
   "metadata": {},
   "outputs": [],
   "source": [
    "for x, y in coordinates[:BYTES_TO_SIMULATE]:\n",
    "    grid[y][x] = \"#\"\n",
    "\n",
    "for r in grid:\n",
    "    print(\"\".join(r))"
   ]
  },
  {
   "cell_type": "code",
   "execution_count": null,
   "metadata": {},
   "outputs": [],
   "source": [
    "from collections import defaultdict"
   ]
  },
  {
   "cell_type": "code",
   "execution_count": null,
   "metadata": {},
   "outputs": [],
   "source": [
    "from collections import defaultdict\n",
    "\n",
    "\n",
    "DIRECTIONS = [\n",
    "    (-1, 0),\n",
    "    (1, 0),\n",
    "    (0, -1),\n",
    "    (0, 1)\n",
    "]\n",
    "\n",
    "\n",
    "def find_shortest_paths(grid: list[list[str]], source: tuple[int, int]):\n",
    "    dist = defaultdict(lambda: float(\"inf\"))\n",
    "    prev = defaultdict(lambda: None)\n",
    "\n",
    "    Q = []\n",
    "\n",
    "    def select_min():\n",
    "        min_index = 0\n",
    "        min_dist = dist[Q[min_index]]\n",
    "        for i, val in enumerate(Q[1:], start=1):\n",
    "            d = dist[val]\n",
    "            if d < min_dist:\n",
    "                min_dist = d\n",
    "                min_index = i\n",
    "        \n",
    "        return Q.pop(min_index)\n",
    "\n",
    "\n",
    "    def can_go(y: int, x: int) -> bool:\n",
    "        return 0 <= y < len(grid) and 0 <= x < len(grid[0]) and grid[y][x] == \".\"\n",
    "\n",
    "    def get_neighbours(y: int, x: int):\n",
    "        candidates = [(y + d_y, x + d_x) for (d_y, d_x) in DIRECTIONS]\n",
    "        return [c for c in candidates if can_go(*c)]\n",
    "\n",
    "\n",
    "    for y, row in enumerate(grid):\n",
    "        for x, char in enumerate(row):\n",
    "            if char == \".\":\n",
    "                Q.append((y, x))\n",
    "    \n",
    "    dist[source] = 0\n",
    "\n",
    "    while len(Q) > 0:\n",
    "        u = select_min()\n",
    "        neighbours = get_neighbours(*u)\n",
    "\n",
    "        neighbours = [n for n in neighbours if n in Q]\n",
    "\n",
    "        for v in neighbours:\n",
    "            alt = dist[u] + 1\n",
    "            if alt < dist[v]:\n",
    "                dist[v] = alt\n",
    "                prev[v] = u\n",
    "    \n",
    "    return dist, prev\n"
   ]
  },
  {
   "cell_type": "code",
   "execution_count": null,
   "metadata": {},
   "outputs": [],
   "source": [
    "grid"
   ]
  },
  {
   "cell_type": "code",
   "execution_count": null,
   "metadata": {},
   "outputs": [],
   "source": [
    "dist, prev = find_shortest_paths(grid, (0,0))\n",
    "dist, prev"
   ]
  },
  {
   "cell_type": "code",
   "execution_count": null,
   "metadata": {},
   "outputs": [],
   "source": [
    "def get_shortest_path(dist, prev, source: tuple[int, int], target: tuple[int, int]) -> list[tuple[int, int]]:\n",
    "    s = []\n",
    "    u = target\n",
    "    if prev[u] is not None or u == source:\n",
    "        while u is not None:\n",
    "            s.append(u)\n",
    "            u = prev[u]\n",
    "    return s[::-1]"
   ]
  },
  {
   "cell_type": "code",
   "execution_count": null,
   "metadata": {},
   "outputs": [],
   "source": [
    "path = get_shortest_path(dist, prev, (0,0), (70,70))\n",
    "path"
   ]
  },
  {
   "cell_type": "code",
   "execution_count": null,
   "metadata": {},
   "outputs": [],
   "source": [
    "len(path)"
   ]
  },
  {
   "cell_type": "code",
   "execution_count": null,
   "metadata": {},
   "outputs": [],
   "source": [
    "from copy import deepcopy\n",
    "\n",
    "def print_path(grid, path):\n",
    "    grid = deepcopy(grid)\n",
    "    for y, x in path:\n",
    "        grid[y][x] = \"@\"\n",
    "    return grid"
   ]
  },
  {
   "cell_type": "code",
   "execution_count": null,
   "metadata": {},
   "outputs": [],
   "source": [
    "g = print_path(grid, path)\n",
    "for r in g:\n",
    "    print(\"\".join(r))"
   ]
  },
  {
   "cell_type": "code",
   "execution_count": null,
   "metadata": {},
   "outputs": [],
   "source": [
    "from tqdm import tqdm\n",
    "\n",
    "for i in tqdm(range(BYTES_TO_SIMULATE, len(coordinates))):\n",
    "    grid = [['.' for _ in range(GRID_SIZE)] for _ in range(GRID_SIZE)]\n",
    "\n",
    "    for x, y in coordinates[:i]:\n",
    "        grid[y][x] = \"#\"\n",
    "\n",
    "    dist, prev = find_shortest_paths(grid, (0,0))\n",
    "\n",
    "    if prev[(70, 70)] is None:\n",
    "        print(i)\n",
    "        print(coordinates[i])\n",
    "        break"
   ]
  },
  {
   "cell_type": "code",
   "execution_count": null,
   "metadata": {},
   "outputs": [],
   "source": []
  }
 ],
 "metadata": {
  "kernelspec": {
   "display_name": ".venv",
   "language": "python",
   "name": "python3"
  },
  "language_info": {
   "codemirror_mode": {
    "name": "ipython",
    "version": 3
   },
   "file_extension": ".py",
   "mimetype": "text/x-python",
   "name": "python",
   "nbconvert_exporter": "python",
   "pygments_lexer": "ipython3",
   "version": "3.12.4"
  }
 },
 "nbformat": 4,
 "nbformat_minor": 2
}
