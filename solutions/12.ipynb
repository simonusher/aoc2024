{
 "cells": [
  {
   "cell_type": "code",
   "execution_count": null,
   "metadata": {},
   "outputs": [],
   "source": [
    "from aoc2024 import load_example, load_input"
   ]
  },
  {
   "cell_type": "code",
   "execution_count": null,
   "metadata": {},
   "outputs": [],
   "source": [
    "garden_plots = [[plot for plot in row] for row in load_input(12).splitlines()]\n",
    "garden_plots"
   ]
  },
  {
   "cell_type": "code",
   "execution_count": null,
   "metadata": {},
   "outputs": [],
   "source": [
    "DIRECTIONS = [\n",
    "    (-1, 0), #UP\n",
    "    (0, -1), #LEFT\n",
    "    (1, 0), #DOWN\n",
    "    (0, 1), #RIGHT\n",
    "]"
   ]
  },
  {
   "cell_type": "code",
   "execution_count": null,
   "metadata": {},
   "outputs": [],
   "source": [
    "from collections import deque, defaultdict\n",
    "from tqdm import tqdm\n",
    "\n",
    "def is_within_bounds(y: int, x: int, garden_plots: list[list[str]]) -> bool:\n",
    "    return 0 <= y < len(garden_plots) and 0 <= x < len(garden_plots[0])\n",
    "\n",
    "def find_regions(garden_plots: list[list[str]]):\n",
    "    visited_coordinates = set()\n",
    "\n",
    "    def is_part_of_region(coordinates: tuple[int, int], plant: str) -> bool:\n",
    "        y, x = coordinates\n",
    "        if is_within_bounds(y, x, garden_plots):\n",
    "            return garden_plots[y][x] == plant\n",
    "\n",
    "        return False\n",
    "    \n",
    "    regions = defaultdict(list)\n",
    "\n",
    "    total_y = len(garden_plots)\n",
    "    total_x = len(garden_plots[0])\n",
    "\n",
    "    with tqdm(total=total_y * total_x) as pbar:\n",
    "        for y in range(total_y):\n",
    "            for x in range(total_x):\n",
    "                if (position := (y, x)) not in visited_coordinates:\n",
    "                    plant = garden_plots[y][x]\n",
    "                    region = set()\n",
    "                    to_check = deque([position])\n",
    "                    visited_coordinates.add(position)\n",
    "                    \n",
    "                    while len(to_check) > 0:\n",
    "                        current_position = to_check.popleft()\n",
    "                        visited_coordinates.add(current_position)\n",
    "                        region.add(current_position)\n",
    "                        new_coordinates = [(current_position[0] + y, current_position[1] + x) for (y, x) in DIRECTIONS]\n",
    "                        correct_new_coordinates = [c for c in new_coordinates if is_part_of_region(c, plant) and c not in visited_coordinates]\n",
    "                        to_check.extend(correct_new_coordinates)\n",
    "                        visited_coordinates.update(correct_new_coordinates)\n",
    "\n",
    "                    regions[plant].append(region)\n",
    "                    pbar.update(1)\n",
    "        \n",
    "    return regions\n"
   ]
  },
  {
   "cell_type": "code",
   "execution_count": null,
   "metadata": {},
   "outputs": [],
   "source": [
    "regions = find_regions(garden_plots)\n",
    "regions"
   ]
  },
  {
   "cell_type": "code",
   "execution_count": null,
   "metadata": {},
   "outputs": [],
   "source": [
    "def area(region: set[tuple[int, int]]) -> int:\n",
    "    return len(region)\n",
    "\n",
    "\n",
    "def perimiter(region: set[tuple[int, int]], plant: str, garden_plots: list[list[str]]) -> int:\n",
    "    total_perimiter = 0\n",
    "\n",
    "    for (y, x) in region:\n",
    "        neighbor_coordinates = [(y + y_d, x + x_d) for (y_d, x_d) in DIRECTIONS]\n",
    "        not_in_region = [c for c in neighbor_coordinates if c not in region]\n",
    "        total_perimiter += len(not_in_region)\n",
    "    return total_perimiter"
   ]
  },
  {
   "cell_type": "code",
   "execution_count": null,
   "metadata": {},
   "outputs": [],
   "source": [
    "total_price = 0\n",
    "for plant, plant_regions in regions.items():\n",
    "    \n",
    "    for region in plant_regions:\n",
    "        a = area(region)\n",
    "        p = perimiter(region, plant, garden_plots)\n",
    "        # print(f\"region of {plant} plants with price {a} * {p} = {a * p}.\")\n",
    "        total_price += a * p\n",
    "print(total_price)"
   ]
  },
  {
   "cell_type": "code",
   "execution_count": null,
   "metadata": {},
   "outputs": [],
   "source": []
  }
 ],
 "metadata": {
  "kernelspec": {
   "display_name": ".venv",
   "language": "python",
   "name": "python3"
  },
  "language_info": {
   "codemirror_mode": {
    "name": "ipython",
    "version": 3
   },
   "file_extension": ".py",
   "mimetype": "text/x-python",
   "name": "python",
   "nbconvert_exporter": "python",
   "pygments_lexer": "ipython3",
   "version": "3.12.4"
  }
 },
 "nbformat": 4,
 "nbformat_minor": 2
}
