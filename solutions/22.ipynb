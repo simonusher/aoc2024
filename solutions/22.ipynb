{
 "cells": [
  {
   "cell_type": "code",
   "execution_count": null,
   "metadata": {},
   "outputs": [],
   "source": [
    "from aoc2024 import load_example, load_input"
   ]
  },
  {
   "cell_type": "code",
   "execution_count": null,
   "metadata": {},
   "outputs": [],
   "source": [
    "data = load_input(22)\n",
    "data"
   ]
  },
  {
   "cell_type": "code",
   "execution_count": null,
   "metadata": {},
   "outputs": [],
   "source": [
    "initial_numbers = [int(n) for n in data.strip().splitlines()]\n",
    "initial_numbers"
   ]
  },
  {
   "cell_type": "code",
   "execution_count": null,
   "metadata": {},
   "outputs": [],
   "source": [
    "FIRST_MULTIPLIER = 64\n",
    "DIVIDER = 32\n",
    "THIRD_MULTIPLIER = 2048\n",
    "\n",
    "PRUNE_NUMBER = 16777216\n",
    "\n",
    "def next_number(number: int) -> int:\n",
    "    number = (number ^ (number * FIRST_MULTIPLIER)) % PRUNE_NUMBER\n",
    "    number = (number ^ (number // DIVIDER)) % PRUNE_NUMBER\n",
    "    number = (number ^ (number * THIRD_MULTIPLIER)) % PRUNE_NUMBER\n",
    "    return number\n"
   ]
  },
  {
   "cell_type": "code",
   "execution_count": null,
   "metadata": {},
   "outputs": [],
   "source": [
    "def nth_next_number(number: int, n: int) -> int:\n",
    "    for _ in range(n):\n",
    "        number = next_number(number)\n",
    "    return number"
   ]
  },
  {
   "cell_type": "markdown",
   "metadata": {},
   "source": [
    "## Part 2"
   ]
  },
  {
   "cell_type": "code",
   "execution_count": null,
   "metadata": {},
   "outputs": [],
   "source": [
    "def generate_numbers(number: int, n: int) -> list[int]:\n",
    "    res = [number]\n",
    "    for _ in range(n):\n",
    "        number = next_number(number)\n",
    "        res.append(number)\n",
    "    return res\n"
   ]
  },
  {
   "cell_type": "code",
   "execution_count": null,
   "metadata": {},
   "outputs": [],
   "source": [
    "from collections import defaultdict\n",
    "from itertools import pairwise\n",
    "\n",
    "unique_sequences = set()\n",
    "\n",
    "seq_to_prices = []\n",
    "\n",
    "\n",
    "for number in initial_numbers:\n",
    "    numbers = generate_numbers(number, 2000)\n",
    "    prices = [n % 10 for n in numbers]\n",
    "    differences = [second-first for (first, second) in pairwise(prices)]\n",
    "\n",
    "    this_seq_to_prices = defaultdict(int)\n",
    "\n",
    "    for i in range(len(differences) - 3):\n",
    "        seq = tuple(differences[i:i+4])\n",
    "        unique_sequences.add(seq)\n",
    "        if seq not in this_seq_to_prices:\n",
    "            this_seq_to_prices[seq] = prices[i+4]\n",
    "    seq_to_prices.append(this_seq_to_prices)\n",
    "    "
   ]
  },
  {
   "cell_type": "code",
   "execution_count": null,
   "metadata": {},
   "outputs": [],
   "source": [
    "def sum_for_seq(seq: tuple[int, int, int, int]) -> int:\n",
    "    return sum(x[seq] for x in seq_to_prices)\n",
    "\n",
    "\n",
    "max_bananas = 0\n",
    "best_seq = None\n",
    "\n",
    "for seq in unique_sequences:\n",
    "    seq_sum = sum_for_seq(seq)\n",
    "    if seq_sum > max_bananas:\n",
    "        max_bananas = seq_sum\n",
    "        best_seq = seq"
   ]
  },
  {
   "cell_type": "code",
   "execution_count": null,
   "metadata": {},
   "outputs": [],
   "source": [
    "max_bananas"
   ]
  },
  {
   "cell_type": "code",
   "execution_count": null,
   "metadata": {},
   "outputs": [],
   "source": [
    "best_seq"
   ]
  }
 ],
 "metadata": {
  "kernelspec": {
   "display_name": ".venv",
   "language": "python",
   "name": "python3"
  },
  "language_info": {
   "codemirror_mode": {
    "name": "ipython",
    "version": 3
   },
   "file_extension": ".py",
   "mimetype": "text/x-python",
   "name": "python",
   "nbconvert_exporter": "python",
   "pygments_lexer": "ipython3",
   "version": "3.12.4"
  }
 },
 "nbformat": 4,
 "nbformat_minor": 2
}
