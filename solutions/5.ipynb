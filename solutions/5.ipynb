{
 "cells": [
  {
   "cell_type": "code",
   "execution_count": null,
   "metadata": {},
   "outputs": [],
   "source": [
    "from aoc2024 import load_example, load_input"
   ]
  },
  {
   "cell_type": "code",
   "execution_count": null,
   "metadata": {},
   "outputs": [],
   "source": [
    "text = load_input(5)\n",
    "rules_text, updates_text = text.split(\"\\n\\n\")\n",
    "print(rules_text)"
   ]
  },
  {
   "cell_type": "code",
   "execution_count": null,
   "metadata": {},
   "outputs": [],
   "source": [
    "print(updates_text)"
   ]
  },
  {
   "cell_type": "markdown",
   "metadata": {},
   "source": [
    "## Part 1"
   ]
  },
  {
   "cell_type": "code",
   "execution_count": null,
   "metadata": {},
   "outputs": [],
   "source": [
    "from collections import defaultdict\n",
    "\n",
    "\n",
    "def parse_ruleset(rules_text: str) -> dict[int, tuple[set[int], set[int]]]:\n",
    "    rules = defaultdict(lambda: (set(), set()))\n",
    "    \n",
    "\n",
    "    for rule_line in rules_text.splitlines():\n",
    "        first, second = rule_line.split(\"|\")\n",
    "        first, second = int(first), int(second)\n",
    "\n",
    "        first_before, _ = rules[first]\n",
    "        _, second_after = rules[second]\n",
    "\n",
    "        first_before.add(second)\n",
    "        second_after.add(first)\n",
    "\n",
    "    return rules"
   ]
  },
  {
   "cell_type": "code",
   "execution_count": null,
   "metadata": {},
   "outputs": [],
   "source": [
    "rules = parse_ruleset(rules_text)\n",
    "rules"
   ]
  },
  {
   "cell_type": "code",
   "execution_count": null,
   "metadata": {},
   "outputs": [],
   "source": [
    "def is_update_correct(update: list[int], rules: dict[int, tuple[set[int], set[int]]]) -> bool:\n",
    "    numbers_before = []\n",
    "    numbers_after = update[1:]\n",
    "\n",
    "    for current in update:\n",
    "        current_should_be_before, current_should_be_after = rules[current]\n",
    "\n",
    "        for number_after_current in numbers_after:\n",
    "            if number_after_current in current_should_be_after:\n",
    "                return False\n",
    "        \n",
    "        for number_before_current in numbers_before:\n",
    "            if number_before_current in current_should_be_before:\n",
    "                return False\n",
    "        \n",
    "        numbers_before.append(current)\n",
    "        numbers_after = numbers_after[1:]\n",
    "\n",
    "    return True"
   ]
  },
  {
   "cell_type": "code",
   "execution_count": null,
   "metadata": {},
   "outputs": [],
   "source": [
    "def parse_updates(updates_text: str) -> list[list[int]]:\n",
    "    updates_lines = updates_text.splitlines()\n",
    "    updates = []\n",
    "    for line in updates_lines:\n",
    "        update_numbers = [int(n) for n in line.split(\",\")]\n",
    "        updates.append(update_numbers)\n",
    "    \n",
    "    return updates\n"
   ]
  },
  {
   "cell_type": "code",
   "execution_count": null,
   "metadata": {},
   "outputs": [],
   "source": [
    "updates = parse_updates(updates_text)\n",
    "updates"
   ]
  },
  {
   "cell_type": "code",
   "execution_count": null,
   "metadata": {},
   "outputs": [],
   "source": [
    "correct_updates = [update for update in updates if is_update_correct(update, rules)]\n",
    "correct_updates"
   ]
  },
  {
   "cell_type": "code",
   "execution_count": null,
   "metadata": {},
   "outputs": [],
   "source": [
    "middle_numbers = [\n",
    "    u[len(u) // 2]\n",
    "    for u in correct_updates\n",
    "]\n",
    "middle_numbers"
   ]
  },
  {
   "cell_type": "code",
   "execution_count": null,
   "metadata": {},
   "outputs": [],
   "source": [
    "sum(middle_numbers)"
   ]
  },
  {
   "cell_type": "markdown",
   "metadata": {},
   "source": [
    "## Part 2"
   ]
  },
  {
   "cell_type": "code",
   "execution_count": null,
   "metadata": {},
   "outputs": [],
   "source": [
    "incorrect_updates = [update for update in updates if not is_update_correct(update, rules)]\n",
    "incorrect_updates"
   ]
  },
  {
   "cell_type": "code",
   "execution_count": null,
   "metadata": {},
   "outputs": [],
   "source": [
    "from functools import cmp_to_key"
   ]
  },
  {
   "cell_type": "code",
   "execution_count": null,
   "metadata": {},
   "outputs": [],
   "source": [
    "def compare_numbers(first: int, second: int) -> int:\n",
    "    first_before, first_after = rules[first]\n",
    "\n",
    "    if second in first_before:\n",
    "        return -1\n",
    "    elif second in first_after:\n",
    "        return 1\n",
    "    \n",
    "    second_before, second_after = rules[first]\n",
    "\n",
    "    if first in second_before:\n",
    "        return 1\n",
    "    elif first in second_after:\n",
    "        return -1\n",
    "    \n",
    "    return 0"
   ]
  },
  {
   "cell_type": "code",
   "execution_count": null,
   "metadata": {},
   "outputs": [],
   "source": [
    "fixed_updates = [\n",
    "    sorted(i, key=cmp_to_key(compare_numbers))\n",
    "    for i in incorrect_updates\n",
    "]"
   ]
  },
  {
   "cell_type": "code",
   "execution_count": null,
   "metadata": {},
   "outputs": [],
   "source": [
    "fixed_middle_numbers = [\n",
    "    u[len(u) // 2]\n",
    "    for u in fixed_updates\n",
    "]\n",
    "fixed_middle_numbers"
   ]
  },
  {
   "cell_type": "code",
   "execution_count": null,
   "metadata": {},
   "outputs": [],
   "source": [
    "sum(fixed_middle_numbers)"
   ]
  }
 ],
 "metadata": {
  "kernelspec": {
   "display_name": ".venv",
   "language": "python",
   "name": "python3"
  },
  "language_info": {
   "codemirror_mode": {
    "name": "ipython",
    "version": 3
   },
   "file_extension": ".py",
   "mimetype": "text/x-python",
   "name": "python",
   "nbconvert_exporter": "python",
   "pygments_lexer": "ipython3",
   "version": "3.12.4"
  }
 },
 "nbformat": 4,
 "nbformat_minor": 2
}
