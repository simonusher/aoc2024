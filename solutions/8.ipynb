{
 "cells": [
  {
   "cell_type": "code",
   "execution_count": null,
   "metadata": {},
   "outputs": [],
   "source": [
    "from aoc2024 import load_example, load_input"
   ]
  },
  {
   "cell_type": "code",
   "execution_count": null,
   "metadata": {},
   "outputs": [],
   "source": [
    "rows = load_input(8).splitlines()\n",
    "rows"
   ]
  },
  {
   "cell_type": "code",
   "execution_count": null,
   "metadata": {},
   "outputs": [],
   "source": [
    "from collections import defaultdict\n",
    "def find_antennas(rows: list[str]):\n",
    "    antennas = defaultdict(list)\n",
    "\n",
    "    for y, row in enumerate(rows):\n",
    "        for x, element in enumerate(row):\n",
    "            if element != \".\":\n",
    "                antennas[element].append((y, x))\n",
    "    \n",
    "    return antennas"
   ]
  },
  {
   "cell_type": "code",
   "execution_count": null,
   "metadata": {},
   "outputs": [],
   "source": [
    "antennas = find_antennas(rows)\n",
    "antennas"
   ]
  },
  {
   "cell_type": "code",
   "execution_count": null,
   "metadata": {},
   "outputs": [],
   "source": [
    "from itertools import combinations\n",
    "\n",
    "list(combinations(antennas['0'], 2))"
   ]
  },
  {
   "cell_type": "code",
   "execution_count": null,
   "metadata": {},
   "outputs": [],
   "source": [
    "def find_antinodes(antennas: dict[str, list[tuple[int, int]]], map: list[str]) -> set[tuple[int, int]]:\n",
    "    antinodes = set()\n",
    "\n",
    "    height = len(map)\n",
    "    width = len(map[0])\n",
    "\n",
    "    def is_within_map(y: int, x: int) -> bool:\n",
    "        return 0 <= y < height and 0 <= x < width\n",
    "\n",
    "\n",
    "    for frequency, coords in antennas.items():\n",
    "        antenna_pairs = combinations(coords, 2)\n",
    "\n",
    "        for ((first_y, first_x), (second_y, second_x)) in antenna_pairs:\n",
    "            dy = first_y - second_y\n",
    "            dx = first_x - second_x\n",
    "\n",
    "            first_candidate = (first_y + dy, first_x + dx)\n",
    "            second_candidate = (second_y - dy, second_x - dx)\n",
    "\n",
    "            if is_within_map(*first_candidate):\n",
    "                antinodes.add(first_candidate)\n",
    "            \n",
    "            if is_within_map(*second_candidate):\n",
    "                antinodes.add(second_candidate)\n",
    "    \n",
    "    return antinodes"
   ]
  },
  {
   "cell_type": "code",
   "execution_count": null,
   "metadata": {},
   "outputs": [],
   "source": [
    "antinodes = find_antinodes(antennas, rows)\n",
    "antinodes"
   ]
  },
  {
   "cell_type": "code",
   "execution_count": null,
   "metadata": {},
   "outputs": [],
   "source": [
    "from copy import deepcopy\n",
    "def draw_antinodes(map: list[str], antinodes: set[tuple[int, int]]):\n",
    "    to_draw = deepcopy(map)\n",
    "    for (y, x) in antinodes:\n",
    "        to_draw[y] = to_draw[y][:x] + \"#\" + to_draw[y][x+1:]\n",
    "    return to_draw"
   ]
  },
  {
   "cell_type": "code",
   "execution_count": null,
   "metadata": {},
   "outputs": [],
   "source": [
    "draw_antinodes(rows, antinodes)"
   ]
  },
  {
   "cell_type": "code",
   "execution_count": null,
   "metadata": {},
   "outputs": [],
   "source": [
    "len(antinodes)"
   ]
  },
  {
   "cell_type": "code",
   "execution_count": null,
   "metadata": {},
   "outputs": [],
   "source": []
  }
 ],
 "metadata": {
  "kernelspec": {
   "display_name": ".venv",
   "language": "python",
   "name": "python3"
  },
  "language_info": {
   "codemirror_mode": {
    "name": "ipython",
    "version": 3
   },
   "file_extension": ".py",
   "mimetype": "text/x-python",
   "name": "python",
   "nbconvert_exporter": "python",
   "pygments_lexer": "ipython3",
   "version": "3.12.4"
  }
 },
 "nbformat": 4,
 "nbformat_minor": 2
}
